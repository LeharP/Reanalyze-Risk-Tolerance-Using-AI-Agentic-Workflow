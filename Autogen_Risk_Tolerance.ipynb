{
 "cells": [
  {
   "cell_type": "code",
   "execution_count": 1,
   "metadata": {},
   "outputs": [],
   "source": [
    "# Import necessary modules from autogen and json libraries.\n",
    "import autogen\n",
    "import json\n",
    "from autogen import AssistantAgent"
   ]
  },
  {
   "cell_type": "code",
   "execution_count": 2,
   "metadata": {},
   "outputs": [],
   "source": [
    "# Configuration for connecting to the Mistral model via Ollama API.\n",
    "config_list_mistral = [\n",
    "    {\n",
    "        'model': \"ollama/mistral\", # Model to be used for the agent\n",
    "        'base_url': \"http://0.0.0.0:4000\", # Local server URL where the model is hosted\n",
    "        'api_key' : \"NULL\"\n",
    "    }\n",
    "]\n",
    "\n",
    "\n",
    "llm_config_mistral = {\n",
    "    \"config_list\": config_list_mistral,\n",
    "    \n",
    "}\n",
    "\n"
   ]
  },
  {
   "cell_type": "code",
   "execution_count": 3,
   "metadata": {},
   "outputs": [
    {
     "name": "stdout",
     "output_type": "stream",
     "text": [
      "{'Demographics': {'age': {'$numberInt': '25'}, 'gender': 'Male', 'marital': 'Un-married', 'occupation': 'Software Engineer', 'industry': 'IT'}, 'Financials': {'income': {'$numberInt': '1000000'}, 'investments': ['Real-estate'], 'debt': {'$numberInt': '100000'}, 'insurance': {'$numberInt': '50000'}, 'tax_category': '5 - 15 lakhs'}, 'Retirement Plans': {'retirementAge': {'$numberInt': '35'}, 'lifeStyle': ['Buy a new house']}, 'Financial Goals': {'timeDuration': {'$numberInt': '10'}, 'investmentGoals': ['Buy a new house']}, 'Risk Tolerance': {'initialInvestment': {'$numberInt': '1000000'}, 'targetValue': {'$numberInt': '2000000'}, 'time_interval': {'$numberInt': '10'}}, 'Investment Strategy': {'option': 'Target value'}, 'Portfolio Structure': {'debt': [], 'equity': ['Diversified Equity Funds (Large Cap, Mid Cap, Small Cap, Flexi Cap, Multi Cap)'], 'hybrid': []}}\n"
     ]
    }
   ],
   "source": [
    "# Load user data from a JSON file named 'userForm.json'\n",
    "with open('userForm.json', 'r') as file:\n",
    "    user_data = json.load(file)\n",
    "\n",
    "\n",
    "\n",
    "def JSONReader(user_data):\n",
    "\n",
    "    # Function to store extracted data into variables\n",
    "        demographics = user_data.get('userDetails', {}).get('demographicInformation', {}).get('data', {})\n",
    "        financials = user_data.get('userDetails', {}).get('financialInformation', {}).get('data', {})\n",
    "        retirement_plans = user_data.get('userDetails', {}).get('retirementPlans', {}).get('data', {})\n",
    "        financial_goals = user_data.get('userDetails', {}).get('financialGoals', {}).get('data', {})\n",
    "        risk_tolerance = user_data.get('riskTolerance', {}).get('parameters', {}).get('data', {})\n",
    "        investment_strategy = user_data.get('investmentStrategy', {}).get('focus', {}).get('data', {})\n",
    "        portfolio_structure = user_data.get('portfolioStructure', {}).get('mutualFunds', {}).get('data', {})\n",
    "\n",
    "        return{\n",
    "            \"Demographics\": demographics,\n",
    "            \"Financials\":financials,\n",
    "            \"Retirement Plans\": retirement_plans,\n",
    "            \"Financial Goals\": financial_goals,\n",
    "            \"Risk Tolerance\": risk_tolerance,\n",
    "            \"Investment Strategy\": investment_strategy,\n",
    "            \"Portfolio Structure\": portfolio_structure,\n",
    "        }\n",
    "\n",
    "\n",
    "# Call the JSONReader function to extract data from user_data and store it in the variable 'agent_info'\n",
    "agent_info = JSONReader(user_data) \n",
    "print(agent_info) # Display stored data for verification"
   ]
  },
  {
   "cell_type": "code",
   "execution_count": 4,
   "metadata": {},
   "outputs": [],
   "source": [
    "#This agent will analyze the user's financial goals and assess their risk tolerance based on the given data\n",
    "Financial_goals_risk_analyzer = AssistantAgent(\n",
    "    name=\"Financial_Agent\",\n",
    "    system_message='''You are a Expert Financial Advisor agent,\n",
    "    Take a deep dive into the user's financial goals and and provide a detailed analysis of the user's risk tolerance.\n",
    "    Do not ask for other information. Return 'TERMINATE' when you are done. ''',\n",
    "    llm_config=llm_config_mistral,\n",
    "    code_execution_config=False,\n",
    "    human_input_mode=\"NEVER\",\n",
    ")"
   ]
  },
  {
   "cell_type": "code",
   "execution_count": 5,
   "metadata": {},
   "outputs": [],
   "source": [
    "# Define a task prompt for the financial agent\n",
    "Task_finance = f'''\n",
    "Analyze data points of financial goals of the user using the data provided below and reassess the user's risk tolerance level.\n",
    "\n",
    "User data: [\n",
    "    {agent_info['Demographics']} \n",
    "    {agent_info['Financials']}\n",
    "    {agent_info['Retirement Plans']}\n",
    "    {agent_info['Financial Goals']}\n",
    "    ]\n",
    "'''"
   ]
  },
  {
   "cell_type": "code",
   "execution_count": 6,
   "metadata": {},
   "outputs": [
    {
     "name": "stdout",
     "output_type": "stream",
     "text": [
      " Based on the provided data, let's analyze the user's financial goals and reassess their risk tolerance level:\n",
      "\n",
      "1. Age (25): The user is relatively young, which suggests a longer time horizon for investing. This usually allows for a higher risk tolerance as there's more time to recover from potential losses.\n",
      "\n",
      "2. Gender, Marital Status, Occupation, and Industry: These factors don't have a direct impact on the risk tolerance, but they can indirectly influence the income and savings patterns, which in turn affect the risk tolerance.\n",
      "\n",
      "3. Income (10 lakhs per annum): A high income provides more financial flexibility, allowing for a lower risk tolerance or the ability to diversify investments to reduce risk.\n",
      "\n",
      "4. Investments: The user has invested in real-estate, which is typically considered a moderate to low-risk investment if it's not leveraged heavily. However, the lack of diversification slightly increases the overall risk level.\n",
      "\n",
      "5. Debt (10 lakhs): This amount of debt can be significant and may increase the user's financial stress, potentially pushing them towards more conservative investments with lower returns to prioritize debt repayment.\n",
      "\n",
      "6. Insurance Coverage (5 lakhs): Having a substantial insurance coverage indicates that the user is aware of managing financial risks and might have a slightly higher risk tolerance in investments.\n",
      "\n",
      "7. Tax Category (5 - 15 lakhs): This suggests a moderate to high income, which typically allows for a lower risk tolerance or the ability to diversify investments to reduce risk.\n",
      "\n",
      "8. Retirement Age (35): The user plans to retire at an early age, which might require higher-return investments due to the shorter time horizon. However, this doesn't necessarily mean a higher risk tolerance as the investments need to be carefully managed to achieve the desired return within the specified period.\n",
      "\n",
      "9. Time Duration (10 years): Given that the user has 10 years until their primary investment goal (buying a new house), they may be able to tolerate some level of risk in their investments to achieve higher returns.\n",
      "\n",
      "10. Investment Goals: The user's main investment goal is to buy a new house, which implies a medium-term goal and potential need for capital preservation along with growth. This suggests that the user might have a moderate risk tolerance level.\n",
      "\n",
      "In conclusion, based on the data provided, the user seems to have a moderate risk tolerance level. It's essential to create an investment strategy that considers their financial goals, risk tolerance, debt, and income levels while ensuring proper diversification of investments for capital preservation and growth. It may be beneficial to consult with a certified financial planner or advisor to create a tailored investment plan.\n",
      "\n",
      "TERMINATE\n"
     ]
    }
   ],
   "source": [
    "# Generate a reply from the financial agent using the specified task prompt.\n",
    "financial_res = Financial_goals_risk_analyzer.generate_reply(\n",
    "    messages=[{\"role\": \"user\", \"content\": Task_finance}]\n",
    ")\n",
    "print(financial_res)"
   ]
  },
  {
   "cell_type": "code",
   "execution_count": 7,
   "metadata": {},
   "outputs": [],
   "source": [
    "# This agent will analyze the user's investment strategy and assess their risk tolerance based on the given data\n",
    "Investment_goals_risk_analyzer = AssistantAgent(\n",
    "    name=\"Investment_Agent\",\n",
    "    system_message='''You are a Expert Investment Advisor agent,\n",
    "\n",
    "    Take a deep dive into the user's investment strategy and provide a detailed analysis of the user's risk tolerance.\n",
    "    Do not ask for other information. Return 'TERMINATE' when you are done. ''',\n",
    "    llm_config=llm_config_mistral,\n",
    "    code_execution_config=False,\n",
    "    human_input_mode=\"NEVER\",\n",
    ")"
   ]
  },
  {
   "cell_type": "code",
   "execution_count": 8,
   "metadata": {},
   "outputs": [],
   "source": [
    "#Define a task prompt for the investment agent\n",
    "Task_investment = f'''\n",
    "Analyze data points of the investment strategy of the user using the data provided below and reassess the user's risk tolerance level.\n",
    "\n",
    "User data: [\n",
    "    {agent_info['Demographics']} \n",
    "    {agent_info['Financials']}\n",
    "    {agent_info['Retirement Plans']}\n",
    "    {agent_info['Investment Strategy']}\n",
    "    ]\n",
    "\n",
    "'''"
   ]
  },
  {
   "cell_type": "code",
   "execution_count": 9,
   "metadata": {},
   "outputs": [
    {
     "name": "stdout",
     "output_type": "stream",
     "text": [
      " Based on the provided data, let's assess the user's risk tolerance level:\n",
      "\n",
      "1. Age (25): Younger investors generally have higher risk tolerances as they have more time to recover from potential losses and can afford to take on more risk for potentially higher returns. However, at 25, this individual is still relatively young but also has significant financial goals (buying a new house by retirement at age 35).\n",
      "\n",
      "2. Income ($1,000,000): A high income level typically indicates a higher risk tolerance, as the investor can absorb potential losses more easily and still meet their financial obligations.\n",
      "\n",
      "3. Investments (Real-estate): Real estate investments are considered less liquid and generally have lower short-term volatility compared to stocks or mutual funds. However, real estate prices can be influenced by various economic factors, which can introduce some level of risk. This investor seems to have a moderate approach to investment, considering the choice of real estate.\n",
      "\n",
      "4. Debt ($100,000) and Insurance ($50,000): The debt level is relatively high, but still manageable given the income level. The presence of insurance coverage indicates a certain degree of risk awareness, which suggests a moderately low risk tolerance.\n",
      "\n",
      "5. Tax_category (5 - 15 lakhs): This category indicates an above-average income, which may contribute to a higher risk tolerance. However, it's essential to consider the user's overall financial situation and goals before making any definitive conclusions about their risk tolerance.\n",
      "\n",
      "6. Retirement Age (35): Although uncommon, retiring at 35 is an ambitious goal that might require aggressive investment strategies with a higher level of risk. However, given the other factors discussed, it's challenging to conclude whether this individual can handle such a high-risk approach.\n",
      "\n",
      "7. Option ('Target value'): This preference indicates that the investor seeks long-term growth and is willing to accept some degree of volatility in exchange for potentially higher returns. This choice suggests a moderately high risk tolerance.\n",
      "\n",
      "In conclusion, based on the data provided, it appears that this user has a moderately high risk tolerance level. However, it's essential to consider their overall financial situation, investment objectives, and any unique circumstances before making final recommendations or adjustments to their investment strategy. I would recommend further discussion and analysis to confirm this assessment and provide personalized advice.\n",
      "\n",
      "TERMINATE.\n"
     ]
    }
   ],
   "source": [
    "# Generate a reply from the investment agent using the specified task prompt\n",
    "investment_res = Investment_goals_risk_analyzer.generate_reply(\n",
    "    messages=[{\"role\": \"user\", \"content\": Task_investment}]\n",
    ")\n",
    "print(investment_res)"
   ]
  },
  {
   "cell_type": "code",
   "execution_count": 10,
   "metadata": {},
   "outputs": [],
   "source": [
    "# This agent will analyze the user's portfolio structure and assess their risk tolerance based on the given data\n",
    "portfolio_risk_analyzer = AssistantAgent(\n",
    "    name=\"portfolio_Agent\",\n",
    "    system_message='''You are a Expert portfolio structure Advisor agent,\n",
    "    Take a deep dive into the user's portfolio structure and provide a detailed analysis of the user's risk tolerance.\n",
    "    Do not ask for other information. Return 'TERMINATE' when you are done. ''',\n",
    "    llm_config=llm_config_mistral,\n",
    "    code_execution_config=False,\n",
    "    human_input_mode=\"NEVER\",\n",
    ")"
   ]
  },
  {
   "cell_type": "code",
   "execution_count": 11,
   "metadata": {},
   "outputs": [],
   "source": [
    "# Define a task prompt for the portfolio agent\n",
    "Task_portfolio = f'''\n",
    "Analyze data points of the portfolio structure of the user using the data provided below and reassess the user's risk tolerance level.\n",
    "\n",
    "User data: [\n",
    "    {agent_info['Demographics']} \n",
    "    {agent_info['Financials']}\n",
    "    {agent_info['Retirement Plans']}\n",
    "    {agent_info['Portfolio Structure']}\n",
    "    ]\n",
    "'''"
   ]
  },
  {
   "cell_type": "code",
   "execution_count": 12,
   "metadata": {},
   "outputs": [
    {
     "name": "stdout",
     "output_type": "stream",
     "text": [
      " Based on the data provided, I will analyze the user's portfolio structure and reassess their risk tolerance level.\n",
      "\n",
      "The user is a 25-year-old male software engineer in the IT industry with an income of INR 10,000,000 per annum. They have no current debts except for a debt of INR 100,000 which will be cleared soon as shown by the empty 'debt' array. They have an insurance coverage of INR 500,000 and fall under the tax category of 5-15 lakhs (INR 500,000 - INR 1,500,000). Their retirement age is set at 35 years old.\n",
      "\n",
      "The user's investment portfolio consists solely of Real Estate and a variety of Diversified Equity Funds including Large Cap, Mid Cap, Small Cap, Flexi Cap, and Multi Cap funds. There are no hybrid investments in their portfolio. Their lifestyle aspiration is to buy a new house.\n",
      "\n",
      "In terms of risk tolerance level:\n",
      "\n",
      "1. Age (25) - Younger investors generally have a higher risk tolerance as they have more time to recover from potential market downturns.\n",
      "\n",
      "2. Income Level (INR 10,000,000 per annum) - This high income level suggests that the user has a greater capacity for risk due to their financial stability.\n",
      "\n",
      "3. Debt and Insurance Coverage - The absence of current debt combined with an insurance coverage of INR 500,000 indicates a lower perceived risk in the user's financial life.\n",
      "\n",
      "4. Retirement Age (35) - This early retirement age indicates a higher willingness to take on risk to achieve their financial goals at a younger age.\n",
      "\n",
      "5. Investment Portfolio Composition - The user has a diversified investment portfolio, primarily focusing on equity funds, which are inherently risky. However, the presence of Real Estate in their investments adds some stability to the overall portfolio.\n",
      "\n",
      "6. Lifestyle Aspiration (Buy a new house) - This suggests that the user is willing to take on moderate risk to achieve their financial goals.\n",
      "\n",
      "Considering all these factors, I would assess the user's risk tolerance level as Moderate-to-High. The user should focus on maintaining their current investment allocation in equities while possibly exploring additional diversification opportunities within other asset classes or investing in more conservative debt instruments to balance their portfolio and reduce potential downside risk.\n"
     ]
    }
   ],
   "source": [
    "# Generate a reply from the portfolio agent using the specified task prompt\n",
    "portfolio_res = portfolio_risk_analyzer.generate_reply(\n",
    "    messages=[{\"role\": \"user\", \"content\": Task_portfolio}]\n",
    ")\n",
    "print(portfolio_res)"
   ]
  },
  {
   "cell_type": "code",
   "execution_count": 13,
   "metadata": {},
   "outputs": [],
   "source": [
    "# This agent will summarize all the insights from financial, investment, and portfolio analyses and provide a final detailed risk tolerance report\n",
    "Risk_Tolerance_risk_analyzer = AssistantAgent(\n",
    "    name=\"risk_Agent\",\n",
    "    system_message='''You are a Expert Risk Tolerance agent,\n",
    "    you are to summarise the data given to you and provide a detailed analysis of the user's risk tolerance.\n",
    "    Do not ask for other information. Return 'TERMINATE' when you are done. ''',\n",
    "    llm_config=llm_config_mistral,\n",
    "    code_execution_config= False,\n",
    "    human_input_mode=\"NEVER\",\n",
    ")"
   ]
  },
  {
   "cell_type": "code",
   "execution_count": 18,
   "metadata": {},
   "outputs": [],
   "source": [
    "# Define a task prompt for the portfolio agent\n",
    "Task_risk = f'''\n",
    "Summarize the data in financial_res,investment_res and portfolio_res variables and taking this new data into account provide a detailed analysis of the user's risk tolerance.\n",
    "Provide the output in JSON format with updated risk tolerance values and  Ensure the new values reflect changes in the user's financial situation or risk\n",
    "parameters based on the analysis.\n",
    "\n",
    "financial_res: {financial_res}\n",
    "investment_res: {investment_res}\n",
    "portfolio_res: {portfolio_res}\n",
    "'''"
   ]
  },
  {
   "cell_type": "code",
   "execution_count": 19,
   "metadata": {},
   "outputs": [
    {
     "name": "stdout",
     "output_type": "stream",
     "text": [
      "[autogen.oai.client: 09-18 18:12:47] {349} WARNING - Model ollama/mistral is not found. The cost will be 0. In your config_list, add field {\"price\" : [prompt_price_per_1k, completion_token_price_per_1k]} for customized pricing.\n",
      " {\n",
      "      \"Risk_Tolerance\": \"Moderate-to-High\",\n",
      "      \"Analysis\": [\n",
      "         \"The user is a 25-year-old male software engineer with an income of INR 10,000,000 per annum and has no current debts except for a debt of INR 100,000 which will be cleared soon.\",\n",
      "         \"They have insurance coverage of INR 500,000 and fall under the tax category of 5-15 lakhs (INR 500,000 - INR 1,500,000). Their retirement age is set at 35 years old.\",\n",
      "         \"The user's investment portfolio consists solely of Real Estate and a variety of Diversified Equity Funds including Large Cap, Mid Cap, Small Cap, Flexi Cap, and Multi Cap funds. There are no hybrid investments in their portfolio.\",\n",
      "         \"Their lifestyle aspiration is to buy a new house.\",\n",
      "         \"Given the user's age, income level, low debt, and insurance coverage, they have a greater capacity for risk due to their financial stability.\",\n",
      "         \"The early retirement age indicates a higher willingness to take on risk to achieve their financial goals at a younger age.\",\n",
      "         \"However, their investment portfolio is primarily focused on equity funds which are inherently risky. The presence of Real Estate in their investments adds some stability to the overall portfolio.\",\n",
      "         \"The user's willingness to buy a new house suggests they are willing to take on moderate risk to achieve their financial goals.\",\n",
      "         \"Considering all these factors, I would assess the user's risk tolerance level as Moderate-to-High. The user should focus on maintaining their current investment allocation in equities while possibly exploring additional diversification opportunities within other asset classes or investing in more conservative debt instruments to balance their portfolio and reduce potential downside risk.\"\n",
      "      ]\n",
      "   }\n"
     ]
    }
   ],
   "source": [
    "# Generate a reply from the portfolio agent using the specified task prompt and store the result in a json file called output.json\n",
    "Final_res = Risk_Tolerance_risk_analyzer.generate_reply(\n",
    "    messages=[{\"role\": \"user\", \"content\": Task_risk}]\n",
    ")\n",
    "print(Final_res)\n",
    "\n",
    "with open('output.json', 'w') as f:\n",
    "    f.write(Final_res)"
   ]
  },
  {
   "cell_type": "code",
   "execution_count": null,
   "metadata": {},
   "outputs": [],
   "source": []
  }
 ],
 "metadata": {
  "kernelspec": {
   "display_name": "autogen",
   "language": "python",
   "name": "python3"
  },
  "language_info": {
   "codemirror_mode": {
    "name": "ipython",
    "version": 3
   },
   "file_extension": ".py",
   "mimetype": "text/x-python",
   "name": "python",
   "nbconvert_exporter": "python",
   "pygments_lexer": "ipython3",
   "version": "3.12.3"
  }
 },
 "nbformat": 4,
 "nbformat_minor": 2
}
